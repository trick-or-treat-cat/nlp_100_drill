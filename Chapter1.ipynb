{
 "cells": [
  {
   "cell_type": "markdown",
   "metadata": {},
   "source": [
    "# 第1章 準備運動"
   ]
  },
  {
   "cell_type": "markdown",
   "metadata": {},
   "source": [
    "## 00. 文字列の逆順"
   ]
  },
  {
   "cell_type": "code",
   "execution_count": 1,
   "metadata": {},
   "outputs": [
    {
     "name": "stdout",
     "output_type": "stream",
     "text": [
      "desserts\n"
     ]
    }
   ],
   "source": [
    "string = \"stressed\"\n",
    "rev_string = string[::-1] # In python, str[i:j:k] is start i, end j, step k, and k = -1 means reverse.\n",
    "print(rev_string)"
   ]
  },
  {
   "cell_type": "markdown",
   "metadata": {},
   "source": [
    "## 01. 「パタトクカシーー」"
   ]
  },
  {
   "cell_type": "code",
   "execution_count": 2,
   "metadata": {},
   "outputs": [
    {
     "name": "stdout",
     "output_type": "stream",
     "text": [
      "パトカー\n"
     ]
    }
   ],
   "source": [
    "string = \"パタトクカシーー\"\n",
    "cut_string = string[::2]\n",
    "print(cut_string)"
   ]
  },
  {
   "cell_type": "markdown",
   "metadata": {},
   "source": [
    "## 02. 「パトカー」＋「タクシー」＝「パタトクカシーー」"
   ]
  },
  {
   "cell_type": "code",
   "execution_count": 3,
   "metadata": {},
   "outputs": [
    {
     "name": "stdout",
     "output_type": "stream",
     "text": [
      "パタトクカシーー\n"
     ]
    }
   ],
   "source": [
    "string1 = \"パトカー\"\n",
    "string2 = \"タクシー\"\n",
    "con_string = \"\".join([c1 + c2 for c1, c2 in zip(string1, string2)])\n",
    "print(con_string)"
   ]
  },
  {
   "cell_type": "markdown",
   "metadata": {},
   "source": [
    "## 03. 円周率"
   ]
  },
  {
   "cell_type": "code",
   "execution_count": 4,
   "metadata": {},
   "outputs": [
    {
     "name": "stdout",
     "output_type": "stream",
     "text": [
      "[3, 1, 4, 1, 5, 9, 2, 6, 5, 3, 5, 8, 9, 7, 9]\n"
     ]
    }
   ],
   "source": [
    "string = \"Now I need a drink, alcoholic of course, after the heavy lectures involving quantum mechanics.\"\n",
    "char_numbers = [len(word.strip(',.')) for word in string.split()]\n",
    "print(char_numbers)"
   ]
  },
  {
   "cell_type": "markdown",
   "metadata": {},
   "source": [
    "## 04. 元素記号"
   ]
  },
  {
   "cell_type": "code",
   "execution_count": 5,
   "metadata": {},
   "outputs": [
    {
     "name": "stdout",
     "output_type": "stream",
     "text": [
      "{'H': 1, 'He': 2, 'Li': 3, 'Be': 4, 'B': 5, 'C': 6, 'N': 7, 'O': 8, 'F': 9, 'Ne': 10, 'Na': 11, 'Mi': 12, 'Al': 13, 'Si': 14, 'P': 15, 'S': 16, 'Cl': 17, 'Ar': 18, 'K': 19, 'Ca': 20}\n"
     ]
    }
   ],
   "source": [
    "string = \"Hi He Lied Because Boron Could Not Oxidize Fluorine. New Nations Might Also Sign Peace Security Clause. Arthur King Can.\"\n",
    "str_dict = {word[:1] if i + 1 in [1, 5, 6, 7, 8, 9, 15, 16, 19] else word[:2] : i + 1 for i, word in enumerate(string.split())}\n",
    "print(str_dict)"
   ]
  },
  {
   "cell_type": "markdown",
   "metadata": {},
   "source": [
    "## 05. n-gram"
   ]
  },
  {
   "cell_type": "code",
   "execution_count": 6,
   "metadata": {},
   "outputs": [
    {
     "name": "stdout",
     "output_type": "stream",
     "text": [
      "['I ', ' a', 'am', 'm ', ' a', 'an', 'n ', ' N', 'NL', 'LP', 'Pe', 'er']\n",
      "['I am', 'am an', 'an NLPer']\n"
     ]
    }
   ],
   "source": [
    "def n_gram(n, seq, language=\"English\"): \n",
    "    \"\"\"\n",
    "    this function generates n-gram of words if seq is list.\n",
    "    if seq is string, n-gram of charcters is got.\n",
    "    language value accepts \"English\" or \"Japanese\".\n",
    "    \"\"\"\n",
    "    if language == \"English\" and isinstance(seq, list):\n",
    "        return [\" \".join(seq[i:i+n]) for i in range(len(seq) - n + 1)]\n",
    "    else:\n",
    "        return [\"\".join(seq[i:i+n]) for i in range(len(seq) - n + 1)]\n",
    "string = \"I am an NLPer\"\n",
    "print(n_gram(2, string))\n",
    "print(n_gram(2, string.split()))"
   ]
  },
  {
   "cell_type": "markdown",
   "metadata": {},
   "source": [
    "## 06. 集合"
   ]
  },
  {
   "cell_type": "code",
   "execution_count": 7,
   "metadata": {},
   "outputs": [
    {
     "name": "stdout",
     "output_type": "stream",
     "text": [
      "X + Y: {'is', 'gr', 'ph', 'ag', 'ap', 'ra', 'se', 'ad', 'ar', 'di', 'pa'}\n",
      "X * Y: {'ap', 'ar', 'pa', 'ra'}\n",
      "X - Y: {'is', 'di', 'se', 'ad'}\n",
      "'se' is in X: True\n",
      "'se' is in Y: False\n"
     ]
    }
   ],
   "source": [
    "X = set(n_gram(2, \"paraparaparadise\"))\n",
    "Y = set(n_gram(2, \"paragraph\"))\n",
    "print(f\"X + Y: {X|Y}\")\n",
    "print(f\"X * Y: {X&Y}\")\n",
    "print(f\"X - Y: {X-Y}\")\n",
    "print(f\"'se' is in X: {'se' in X}\")\n",
    "print(f\"'se' is in Y: {'se' in Y}\")"
   ]
  },
  {
   "cell_type": "markdown",
   "metadata": {},
   "source": [
    "## 07. テンプレートによる文生成"
   ]
  },
  {
   "cell_type": "code",
   "execution_count": 8,
   "metadata": {},
   "outputs": [
    {
     "name": "stdout",
     "output_type": "stream",
     "text": [
      "12時の気温は22.4\n"
     ]
    }
   ],
   "source": [
    "def template(x, y, z):\n",
    "    return f\"{x}時の{y}は{z}\"\n",
    "print(template(12, \"気温\", 22.4))"
   ]
  },
  {
   "cell_type": "markdown",
   "metadata": {},
   "source": [
    "## 08. 暗号文"
   ]
  },
  {
   "cell_type": "code",
   "execution_count": 9,
   "metadata": {},
   "outputs": [
    {
     "name": "stdout",
     "output_type": "stream",
     "text": [
      "I szev z wivzn.\n",
      "I have a dream.\n"
     ]
    }
   ],
   "source": [
    "def cipher(sentense):\n",
    "    return \"\".join([chr(219 - ord(char)) if char.isalpha() and char.islower() else char for char in sentense])\n",
    "print(cipher(\"I have a dream.\"))\n",
    "print(cipher(cipher(\"I have a dream.\"))) # This cipher is rot13, so how decryption is to encrypt agein."
   ]
  },
  {
   "cell_type": "markdown",
   "metadata": {},
   "source": [
    "## 09. Typoglycemia"
   ]
  },
  {
   "cell_type": "code",
   "execution_count": 10,
   "metadata": {},
   "outputs": [
    {
     "name": "stdout",
     "output_type": "stream",
     "text": [
      "I c'donult bevleie taht I cluod atclluay uernandtsd what I was rniaedg : the pneehmnaol pweor of the haumn mind .\n"
     ]
    }
   ],
   "source": [
    "import random\n",
    "def typoglycemia(sentense):\n",
    "    new_words = []\n",
    "    for word in sentense.split():\n",
    "        if len(word) < 4:\n",
    "            new_word = word\n",
    "        else:\n",
    "            new_word = list(word)\n",
    "            new_word[1:-1] = random.sample(word[1:-1], len(word) - 2)\n",
    "            new_word = \"\".join(new_word)\n",
    "        new_words.append(new_word)\n",
    "    return \" \".join(new_words)\n",
    "    \n",
    "print(typoglycemia(\"I couldn't believe that I could actually understand what I was reading : the phenomenal power of the human mind .\"))"
   ]
  }
 ],
 "metadata": {
  "kernelspec": {
   "display_name": "Python 3",
   "language": "python",
   "name": "python3"
  },
  "language_info": {
   "codemirror_mode": {
    "name": "ipython",
    "version": 3
   },
   "file_extension": ".py",
   "mimetype": "text/x-python",
   "name": "python",
   "nbconvert_exporter": "python",
   "pygments_lexer": "ipython3",
   "version": "3.6.1"
  }
 },
 "nbformat": 4,
 "nbformat_minor": 2
}
